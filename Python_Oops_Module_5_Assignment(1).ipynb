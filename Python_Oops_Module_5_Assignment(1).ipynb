{
  "nbformat": 4,
  "nbformat_minor": 0,
  "metadata": {
    "colab": {
      "provenance": []
    },
    "kernelspec": {
      "name": "python3",
      "display_name": "Python 3"
    },
    "language_info": {
      "name": "python"
    }
  },
  "cells": [
    {
      "cell_type": "markdown",
      "source": [
        " # Python Oops Module - 5 Assignment\n",
        "\n",
        "\n",
        " ---"
      ],
      "metadata": {
        "id": "wyfD2oUw9AaS"
      }
    },
    {
      "cell_type": "markdown",
      "source": [
        "# Theory Questions"
      ],
      "metadata": {
        "id": "QAvbbN5A9APR"
      }
    },
    {
      "cell_type": "markdown",
      "source": [
        "**Q1.What is Object-Oriented Programming (OOP) ?**\n",
        "\n",
        "->> 1.Object-Oriented Programming (OOP) is a way of writing programs where we organize code around objects instead of just functions and logic.\n",
        "\n",
        "2.OOP uses classes as blueprints to create objects. It makes code easier to reuse, maintain, and understand."
      ],
      "metadata": {
        "id": "ycFojlu-81j3"
      }
    },
    {
      "cell_type": "markdown",
      "source": [
        "**Q2.What is a class in OOP ?**\n",
        "\n",
        "->> 1.A class in Object-Oriented Programming (OOP) is a blueprint or template used to create objects.\n",
        "\n",
        "2.It defines the attributes (data/variables) and methods (functions/behaviors) that the objects created from it will have."
      ],
      "metadata": {
        "id": "0ltTgsNa803G"
      }
    },
    {
      "cell_type": "markdown",
      "source": [
        "**Q3.What is an object in OOP ?**\n",
        "\n",
        "->> 1.An object in Object-Oriented Programming (OOP) is a real-world entity created from a class.\n",
        "\n",
        "2.It represents a specific instance that has its own data (attributes) and can perform actions (methods) defined by the class."
      ],
      "metadata": {
        "id": "SpE4ZT0980uQ"
      }
    },
    {
      "cell_type": "markdown",
      "source": [
        "**Q4. What is the difference between abstraction and encapsulation ?**\n",
        "\n",
        "->> 1.Abstraction is about hiding implementation details and showing only what’s necessary.\n",
        "\n",
        "2.Encapsulation is about protecting data by restricting direct access and bundling it with related methods."
      ],
      "metadata": {
        "id": "wDqTY3JU80m9"
      }
    },
    {
      "cell_type": "markdown",
      "source": [
        "**Q5. What are dunder methods in Python ?**\n",
        "->> 1.Dunder methods (also called magic methods or special methods) are built-in methods in Python that have double underscores (__) at the beginning and end of their names.\n",
        "\n",
        "2.They allow us to customize the behavior of objects and define how they interact with built-in operations like +, len(), print(), etc."
      ],
      "metadata": {
        "id": "NySztYbI80f9"
      }
    },
    {
      "cell_type": "markdown",
      "source": [
        "**Q6. Explain the concept of inheritance in Oop.**\n",
        "\n",
        "->> 1.Inheritance is a concept in Object-Oriented Programming where a class (child/derived class) can reuse the properties and methods of another class (parent/base class)."
      ],
      "metadata": {
        "id": "7AQIvvBS80ZY"
      }
    },
    {
      "cell_type": "markdown",
      "source": [
        "**Q7.What is polymorphism in OOP ?**\n",
        "\n",
        "->> 1.Polymorphism in OOP allows the same method or function name to perform different tasks depending on the object that uses it.\n",
        "\n",
        "2.It increases flexibility and reusability in programs."
      ],
      "metadata": {
        "id": "Zz1ITadR80S4"
      }
    },
    {
      "cell_type": "markdown",
      "source": [
        "**Q8.How is encapsulation achieved in Python ?**\n",
        "\n",
        "->> 1.Encapsulation in Python is achieved by using public, protected (_) and private (__) members within a class.\n",
        "\n",
        "2.This allows restricting direct access to data and ensures controlled interaction through methods."
      ],
      "metadata": {
        "id": "agWebPkR80MX"
      }
    },
    {
      "cell_type": "markdown",
      "source": [
        "**Q9.What is a constructor in Python ?**\n",
        "\n",
        "->> 1.A constructor in Python is a special method named __init__() that automatically runs when an object is created.\n",
        "\n",
        "2.It is used to assign initial values to the object’s attributes."
      ],
      "metadata": {
        "id": "NW78YGnx80GH"
      }
    },
    {
      "cell_type": "markdown",
      "source": [
        "**Q10.What are class and static methods in Python ?**\n",
        "\n",
        "->> 1.A class method (defined with @classmethod) works with the class and takes cls as the first argument.\n",
        "\n",
        "2.A static method (defined with @staticmethod) does not depend on class or object, it just belongs to the class as a utility function."
      ],
      "metadata": {
        "id": "09n4iugm8z-Q"
      }
    },
    {
      "cell_type": "markdown",
      "source": [
        "**Q11.What is method overloading in Python ?**\n",
        "\n",
        "->> 1.Method overloading means defining multiple methods with the same name but different parameters.\n",
        "\n",
        "2.Python does not support true method overloading"
      ],
      "metadata": {
        "id": "uFkfwGBn8z4R"
      }
    },
    {
      "cell_type": "markdown",
      "source": [
        "**Q12.What is method overriding in OOP ?**\n",
        "\n",
        "->> 1.Method overriding occurs when a subclass provides a new implementation of a method already defined in its parent class."
      ],
      "metadata": {
        "id": "fn6gC_rt8zxV"
      }
    },
    {
      "cell_type": "markdown",
      "source": [
        "**Q13.What is a property decorator in Python ?**\n",
        "\n",
        "->> 1.The property decorator in Python allows you to define methods that can be accessed like attributes."
      ],
      "metadata": {
        "id": "kKuVogy48zqk"
      }
    },
    {
      "cell_type": "markdown",
      "source": [
        "**Q14.Why is polymorphism important in OOP ?**\n",
        "\n",
        "->> 1.Polymorphism is important in OOP because it allows the same method or operation to work differently for different objects.\n",
        "\n",
        "2.This improves code reusability, flexibility, and makes programs easier to maintain"
      ],
      "metadata": {
        "id": "daNA591o8zjl"
      }
    },
    {
      "cell_type": "markdown",
      "source": [
        "**Q15.What is an abstract class in Python ?**\n",
        "\n",
        "->> 1.An abstract class in Python is a class that serves as a blueprint for other classes.\n",
        "\n",
        "2.It can define abstract methods that must be implemented by its subclasses. Abstract classes are defined using the abc module."
      ],
      "metadata": {
        "id": "ZwMyQIAr8zcn"
      }
    },
    {
      "cell_type": "markdown",
      "source": [
        "**Q16.What are the advantages of OOP ?**\n",
        "\n",
        "->> 1.The main advantages of OOP are reusability, abstraction, encapsulation, inheritance, and polymorphism, which make programs easier to understand and maintain."
      ],
      "metadata": {
        "id": "znrz11f48zWC"
      }
    },
    {
      "cell_type": "markdown",
      "source": [
        "**Q17.What is the difference between a class variable and an instance variable ?**\n",
        "\n",
        "->> 1.A class variable is shared among all objects of the class.\n",
        "\n",
        "2.An instance variable is unique to each object."
      ],
      "metadata": {
        "id": "uwVvrB8w8zQR"
      }
    },
    {
      "cell_type": "markdown",
      "source": [
        "**Q18.What is multiple inheritance in Python ?**\n",
        "\n",
        "->> 1.Multiple inheritance allows a class to inherit features from more than one parent class. It makes a child class more powerful."
      ],
      "metadata": {
        "id": "qm9O1p9j8zKK"
      }
    },
    {
      "cell_type": "markdown",
      "source": [
        "**Q19.Explain the purpose of ‘’__str__’ and ‘__repr__’ ‘ methods in Python ?**\n",
        "\n",
        "->> 1.__str__ : Provides a readable string representation of the object for end-users.\n",
        "\n",
        "2.__repr__ : Provides an unambiguous string representation for developers/debugging."
      ],
      "metadata": {
        "id": "8i3c09iM8zD4"
      }
    },
    {
      "cell_type": "markdown",
      "source": [
        "**Q20.What is the significance of the ‘super()’ function in Python?**\n",
        "\n",
        "->> 1.The super() function allows a child class to call methods from its parent class, ensuring proper initialization and reuse of parent functionality.\n",
        "\n",
        "2.It helps in code reusability and is especially useful in inheritance and multiple inheritance scenarios."
      ],
      "metadata": {
        "id": "QtgjOx0l8y8_"
      }
    },
    {
      "cell_type": "markdown",
      "source": [
        "**Q21.What is the significance of the __del__ method in Python ?**\n",
        "\n",
        "->> 1.The __del__ method in Python is a destructor that is automatically invoked when an object is about to be deleted.\n",
        "\n",
        "2.Its significance is in cleaning up resources like memory or file connections."
      ],
      "metadata": {
        "id": "FLIJoKcQ8y2K"
      }
    },
    {
      "cell_type": "markdown",
      "source": [
        "**Q22.What is the difference between @staticmethod and @classmethod in Python ?**\n",
        "\n",
        "->> 1.@staticmethod : A method that does not access class or instance data. Works like a normal function but is placed inside a class for organization.\n",
        "\n",
        "2.@classmethod : A method that takes the class (cls) as its first argument and can access or modify class variables."
      ],
      "metadata": {
        "id": "Z6SpByQT8yvf"
      }
    },
    {
      "cell_type": "markdown",
      "source": [
        "**Q23.How does polymorphism work in Python with inheritance ?**\n",
        "\n",
        "->> 1.Polymorphism with inheritance in Python allows a child class to override parent methods.\n",
        "\n",
        "2.The same method name can behave differently depending on the object type, making the code more flexible and reusable."
      ],
      "metadata": {
        "id": "5w96SbhS8yn_"
      }
    },
    {
      "cell_type": "markdown",
      "source": [
        "**Q24.What is method chaining in Python Oop ?**\n",
        "\n",
        "->> 1.Method chaining in Python OOP means calling multiple methods in a single statement, where each method returns the object (self). It improves readability and reduces repetitive code."
      ],
      "metadata": {
        "id": "nJ61sAqm8yg5"
      }
    },
    {
      "cell_type": "markdown",
      "source": [
        "**Q25.What is the purpose of the __call__ method in Python?**\n",
        "\n",
        "->> 1.The __call__ method allows an object to be called like a function. It provides flexibility by letting objects maintain state while also behaving like functions."
      ],
      "metadata": {
        "id": "J_6TihjX8xnQ"
      }
    },
    {
      "cell_type": "markdown",
      "source": [
        "# Practical Questions\n",
        "\n",
        "\n",
        "---"
      ],
      "metadata": {
        "id": "8lfKJsBx8wlg"
      }
    },
    {
      "cell_type": "code",
      "execution_count": 1,
      "metadata": {
        "id": "xNmBTClnP87x",
        "colab": {
          "base_uri": "https://localhost:8080/"
        },
        "outputId": "9c3832bb-1752-4078-a8f2-7f7a295d2cc0"
      },
      "outputs": [
        {
          "output_type": "stream",
          "name": "stdout",
          "text": [
            "Bark!\n"
          ]
        }
      ],
      "source": [
        "# Q1.Create a parent class Animal with a method speak() that prints a generic message.\n",
        "# Create a child class Dog that overrides the speak() method to print \"Bark!\".\n",
        "\n",
        "class Animal:\n",
        "    def speak(self):\n",
        "        print(\"This animal makes a sound.\")\n",
        "\n",
        "class Dog(Animal):\n",
        "    def speak(self):\n",
        "        print(\"Bark!\")\n",
        "\n",
        "d = Dog()\n",
        "d.speak()\n",
        "\n",
        "\n"
      ]
    },
    {
      "cell_type": "code",
      "source": [
        "# Q2.Write a program to create an abstract class Shape with a method area().\n",
        "# Derive classes Circle and Rectangle from it and implement the area() method in both.\n",
        "\n",
        "from abc import ABC, abstractmethod\n",
        "\n",
        "class Shape(ABC):\n",
        "    @abstractmethod\n",
        "    def area(self):\n",
        "        pass\n",
        "\n",
        "class Circle(Shape):\n",
        "    def __init__(self, radius):\n",
        "        self.radius = radius\n",
        "\n",
        "    def area(self):\n",
        "        return 3.14 * self.radius * self.radius\n",
        "\n",
        "class Rectangle(Shape):\n",
        "    def __init__(self, length, width):\n",
        "        self.length = length\n",
        "        self.width = width\n",
        "\n",
        "    def area(self):\n",
        "        return self.length * self.width\n",
        "\n",
        "c = Circle(5)\n",
        "r = Rectangle(4, 6)\n",
        "print(\"Circle area:\", c.area())\n",
        "print(\"Rectangle area:\", r.area())\n"
      ],
      "metadata": {
        "colab": {
          "base_uri": "https://localhost:8080/"
        },
        "id": "KMAJb4RziROl",
        "outputId": "71cfaaba-8d81-43cd-d40a-23f3cdbd0613"
      },
      "execution_count": 2,
      "outputs": [
        {
          "output_type": "stream",
          "name": "stdout",
          "text": [
            "Circle area: 78.5\n",
            "Rectangle area: 24\n"
          ]
        }
      ]
    },
    {
      "cell_type": "code",
      "source": [
        "# Q3.Implement a multi-level inheritance scenario where a class Vehicle has an attribute type.\n",
        "# Derive a class Car and further derive a class ElectricCar that adds a battery attribute.\n",
        "\n",
        "class Vehicle:\n",
        "    def __init__(self, type):\n",
        "        self.type = type\n",
        "\n",
        "class Car(Vehicle):\n",
        "    def __init__(self, type, brand):\n",
        "        super().__init__(type)\n",
        "        self.brand = brand\n",
        "\n",
        "class ElectricCar(Car):\n",
        "    def __init__(self, type, brand, battery):\n",
        "        super().__init__(type, brand)\n",
        "        self.battery = battery\n",
        "\n",
        "e = ElectricCar(\"Car\", \"Tesla\", \"85kWh\")\n",
        "print(e.type, e.brand, e.battery)\n"
      ],
      "metadata": {
        "colab": {
          "base_uri": "https://localhost:8080/"
        },
        "id": "EWXzR6_qiREu",
        "outputId": "8be010a8-2507-48ea-e63e-8bcc0df09f8c"
      },
      "execution_count": 4,
      "outputs": [
        {
          "output_type": "stream",
          "name": "stdout",
          "text": [
            "Car Tesla 85kWh\n"
          ]
        }
      ]
    },
    {
      "cell_type": "code",
      "source": [
        "# Q4.Demonstrate polymorphism by creating a base class Bird with a method fly().\n",
        "# Create two derived classes Sparrow and Penguin that override the fly() method.\n",
        "\n",
        "class Bird:\n",
        "    def fly(self):\n",
        "        print(\"Some birds can fly.\")\n",
        "\n",
        "class Sparrow(Bird):\n",
        "    def fly(self):\n",
        "        print(\"Sparrow flies high!\")\n",
        "\n",
        "class Penguin(Bird):\n",
        "    def fly(self):\n",
        "        print(\"Penguins cannot fly, they swim.\")\n",
        "\n",
        "birds = [Sparrow(), Penguin()]\n",
        "for b in birds:\n",
        "    b.fly()\n"
      ],
      "metadata": {
        "colab": {
          "base_uri": "https://localhost:8080/"
        },
        "id": "yrQortzTiQ8d",
        "outputId": "ef8c0960-473e-4ebe-e372-126602dc7e74"
      },
      "execution_count": 3,
      "outputs": [
        {
          "output_type": "stream",
          "name": "stdout",
          "text": [
            "Sparrow flies high!\n",
            "Penguins cannot fly, they swim.\n"
          ]
        }
      ]
    },
    {
      "cell_type": "code",
      "source": [
        "# Q5.Write a program to demonstrate encapsulation by creating a class BankAccount with private attributes balance and methods to deposit, withdraw, and check balance.\n",
        "\n",
        "class BankAccount:\n",
        "    def __init__(self, balance=0):\n",
        "        self.__balance = balance   # private attribute\n",
        "\n",
        "    def deposit(self, amount):\n",
        "        self.__balance += amount\n",
        "        print(f\"Deposited: {amount}\")\n",
        "\n",
        "    def withdraw(self, amount):\n",
        "        if amount <= self.__balance:\n",
        "            self.__balance -= amount\n",
        "            print(f\"Withdrew: {amount}\")\n",
        "        else:\n",
        "            print(\"Insufficient balance\")\n",
        "\n",
        "    def check_balance(self):\n",
        "        print(f\"Balance: {self.__balance}\")\n",
        "\n",
        "acc = BankAccount(1000)\n",
        "acc.deposit(500)\n",
        "acc.withdraw(300)\n",
        "acc.check_balance()\n"
      ],
      "metadata": {
        "colab": {
          "base_uri": "https://localhost:8080/"
        },
        "id": "1ip9isSjiQzm",
        "outputId": "f5d1e16b-68a3-4e81-bc2b-b51489bb8463"
      },
      "execution_count": 5,
      "outputs": [
        {
          "output_type": "stream",
          "name": "stdout",
          "text": [
            "Deposited: 500\n",
            "Withdrew: 300\n",
            "Balance: 1200\n"
          ]
        }
      ]
    },
    {
      "cell_type": "code",
      "source": [
        "# Q6.Demonstrate runtime polymorphism using a method play() in a base class Instrument.\n",
        "# Derive classes Guitar and Piano that implement their own version of play().\n",
        "\n",
        "\n",
        "class Instrument:\n",
        "    def play(self):\n",
        "        print(\"Instrument is playing.\")\n",
        "\n",
        "class Guitar(Instrument):\n",
        "    def play(self):\n",
        "        print(\"Strumming the guitar.\")\n",
        "\n",
        "class Piano(Instrument):\n",
        "    def play(self):\n",
        "        print(\"Playing the piano.\")\n",
        "\n",
        "instruments = [Guitar(), Piano()]\n",
        "for i in instruments:\n",
        "    i.play()\n"
      ],
      "metadata": {
        "colab": {
          "base_uri": "https://localhost:8080/"
        },
        "id": "dMKGEtnriQrt",
        "outputId": "e71bfe20-7a70-4ac4-8d23-0fdc67f786d1"
      },
      "execution_count": 6,
      "outputs": [
        {
          "output_type": "stream",
          "name": "stdout",
          "text": [
            "Strumming the guitar.\n",
            "Playing the piano.\n"
          ]
        }
      ]
    },
    {
      "cell_type": "code",
      "source": [
        "# Q7.Create a class MathOperations with a class method add_numbers() to add two numbers and a static\n",
        "# method subtract_numbers() to subtract two numbers.\n",
        "\n",
        "\n",
        "class MathOperations:\n",
        "    @classmethod\n",
        "    def add_numbers(cls, a, b):\n",
        "        return a + b\n",
        "\n",
        "    @staticmethod\n",
        "    def subtract_numbers(a, b):\n",
        "        return a - b\n",
        "\n",
        "print(\"Add:\", MathOperations.add_numbers(5, 3))\n",
        "print(\"Subtract:\", MathOperations.subtract_numbers(10, 4))\n"
      ],
      "metadata": {
        "colab": {
          "base_uri": "https://localhost:8080/"
        },
        "id": "d_SGuD_6iQje",
        "outputId": "e505d6e2-4ba8-4dc1-afb1-91983e66f39e"
      },
      "execution_count": 7,
      "outputs": [
        {
          "output_type": "stream",
          "name": "stdout",
          "text": [
            "Add: 8\n",
            "Subtract: 6\n"
          ]
        }
      ]
    },
    {
      "cell_type": "code",
      "source": [
        "# Q8.Implement a class Person with a class method to count the total number of persons created.\n",
        "\n",
        "class Person:\n",
        "    count = 0\n",
        "\n",
        "    def __init__(self, name):\n",
        "        self.name = name\n",
        "        Person.count += 1\n",
        "\n",
        "    @classmethod\n",
        "    def total_persons(cls):\n",
        "        return cls.count\n",
        "\n",
        "p1 = Person(\"Alice\")\n",
        "p2 = Person(\"Bob\")\n",
        "print(\"Total persons:\", Person.total_persons())\n"
      ],
      "metadata": {
        "colab": {
          "base_uri": "https://localhost:8080/"
        },
        "id": "iYaMq8MQiQa3",
        "outputId": "a377a95f-ef77-445e-baad-86e68bcd9aa7"
      },
      "execution_count": 8,
      "outputs": [
        {
          "output_type": "stream",
          "name": "stdout",
          "text": [
            "Total persons: 2\n"
          ]
        }
      ]
    },
    {
      "cell_type": "code",
      "source": [
        "# Q9.Write a class Fraction with attributes numerator and denominator.\n",
        "# Override the str method to display the fraction as \"numerator/denominator\".\n",
        "class Fraction:\n",
        "    def __init__(self, numerator, denominator):\n",
        "        self.numerator = numerator\n",
        "        self.denominator = denominator\n",
        "\n",
        "    def __str__(self):\n",
        "        return f\"{self.numerator}/{self.denominator}\"\n",
        "\n",
        "f = Fraction(3, 4)\n",
        "print(f)\n"
      ],
      "metadata": {
        "colab": {
          "base_uri": "https://localhost:8080/"
        },
        "id": "WDtyMn7yiQR9",
        "outputId": "2d4ab685-d0ed-4045-b604-bf44f52eb339"
      },
      "execution_count": 9,
      "outputs": [
        {
          "output_type": "stream",
          "name": "stdout",
          "text": [
            "3/4\n"
          ]
        }
      ]
    },
    {
      "cell_type": "code",
      "source": [
        "# Q10.Demonstrate operator overloading by creating a class Vector and overriding the add method to add two vectors.\n",
        "\n",
        "class Vector:\n",
        "    def __init__(self, x, y):\n",
        "        self.x = x\n",
        "        self.y = y\n",
        "\n",
        "    def __add__(self, other):\n",
        "        return Vector(self.x + other.x, self.y + other.y)\n",
        "\n",
        "    def __str__(self):\n",
        "        return f\"Vector({self.x}, {self.y})\"\n",
        "\n",
        "v1 = Vector(2, 3)\n",
        "v2 = Vector(4, 5)\n",
        "print(v1 + v2)\n"
      ],
      "metadata": {
        "colab": {
          "base_uri": "https://localhost:8080/"
        },
        "id": "ZR6Y7gV2iQKt",
        "outputId": "8c633752-3bb5-4260-cfa3-3016d92b2172"
      },
      "execution_count": 10,
      "outputs": [
        {
          "output_type": "stream",
          "name": "stdout",
          "text": [
            "Vector(6, 8)\n"
          ]
        }
      ]
    },
    {
      "cell_type": "code",
      "source": [
        "# Q11.Create a class Person with attributes name and age.\n",
        "# Add a method greet() that prints \"Hello, my name is {name} and I am {age} years old.\"\n",
        "\n",
        "class Person:\n",
        "    def __init__(self, name, age):\n",
        "        self.name = name\n",
        "        self.age = age\n",
        "\n",
        "    def greet(self):\n",
        "        print(f\"Hello, my name is {self.name} and I am {self.age} years old.\")\n",
        "\n",
        "p = Person(\"Yash\", 22)\n",
        "p.greet()\n"
      ],
      "metadata": {
        "colab": {
          "base_uri": "https://localhost:8080/"
        },
        "id": "Oto3SDbuiQDF",
        "outputId": "b9bacde4-6880-47ba-a0d1-67639cbaeea6"
      },
      "execution_count": 13,
      "outputs": [
        {
          "output_type": "stream",
          "name": "stdout",
          "text": [
            "Hello, my name is Yash and I am 22 years old.\n"
          ]
        }
      ]
    },
    {
      "cell_type": "code",
      "source": [
        "# Q12.Implement a class Student with attributes name and grades.\n",
        "# Create a method average_grade() to compute the average of the grades.\n",
        "\n",
        "class Student:\n",
        "    def __init__(self, name, grades):\n",
        "        self.name = name\n",
        "        self.grades = grades\n",
        "\n",
        "    def average_grade(self):\n",
        "        return sum(self.grades) / len(self.grades)\n",
        "\n",
        "s = Student(\"Aman\", [85, 90, 78])\n",
        "print(\"Average Grade:\", s.average_grade())\n"
      ],
      "metadata": {
        "colab": {
          "base_uri": "https://localhost:8080/"
        },
        "id": "yAJ5mlueiP6F",
        "outputId": "7785e964-6aaf-4427-fc5e-dd97f65fc52b"
      },
      "execution_count": 14,
      "outputs": [
        {
          "output_type": "stream",
          "name": "stdout",
          "text": [
            "Average Grade: 84.33333333333333\n"
          ]
        }
      ]
    },
    {
      "cell_type": "code",
      "source": [
        "# Q13.Create a class Rectangle with methods set_dimensions() to set the dimensions and area() to calculate the area.\n",
        "\n",
        "class Rectangle:\n",
        "    def set_dimensions(self, length, width):\n",
        "        self.length = length\n",
        "        self.width = width\n",
        "\n",
        "    def area(self):\n",
        "        return self.length * self.width\n",
        "\n",
        "r = Rectangle()\n",
        "r.set_dimensions(5, 4)\n",
        "print(\"Area:\", r.area())\n"
      ],
      "metadata": {
        "colab": {
          "base_uri": "https://localhost:8080/"
        },
        "id": "owYDKqOWiPyG",
        "outputId": "cf9b47ef-2aa4-417b-df0d-84a1cefd62e3"
      },
      "execution_count": 15,
      "outputs": [
        {
          "output_type": "stream",
          "name": "stdout",
          "text": [
            "Area: 20\n"
          ]
        }
      ]
    },
    {
      "cell_type": "code",
      "source": [
        "# Q14.Create a class Employee with a method calculate_salary() that computes the salary based on hours worked and hourly rate.\n",
        "# Create a derived class Manager that adds a bonus to the salary.\n",
        "\n",
        "class Employee:\n",
        "    def __init__(self, hours, rate):\n",
        "        self.hours = hours\n",
        "        self.rate = rate\n",
        "\n",
        "    def calculate_salary(self):\n",
        "        return self.hours * self.rate\n",
        "\n",
        "class Manager(Employee):\n",
        "    def __init__(self, hours, rate, bonus):\n",
        "        super().__init__(hours, rate)\n",
        "        self.bonus = bonus\n",
        "\n",
        "    def calculate_salary(self):\n",
        "        return super().calculate_salary() + self.bonus\n",
        "\n",
        "e = Employee(40, 50)\n",
        "m = Manager(40, 60, 500)\n",
        "print(\"Employee Salary:\", e.calculate_salary())\n",
        "print(\"Manager Salary:\", m.calculate_salary())\n"
      ],
      "metadata": {
        "colab": {
          "base_uri": "https://localhost:8080/"
        },
        "id": "ujd-nub0iPql",
        "outputId": "cea8fdc5-99ae-443e-fdbe-120e30b8e847"
      },
      "execution_count": 16,
      "outputs": [
        {
          "output_type": "stream",
          "name": "stdout",
          "text": [
            "Employee Salary: 2000\n",
            "Manager Salary: 2900\n"
          ]
        }
      ]
    },
    {
      "cell_type": "code",
      "source": [
        "# Q15.Create a class Product with attributes name, price, and quantity. Implement a method total_price() that calculates the total price of the product.\n",
        "\n",
        "class Product:\n",
        "    def __init__(self, name, price, quantity):\n",
        "        self.name = name\n",
        "        self.price = price\n",
        "        self.quantity = quantity\n",
        "\n",
        "    def total_price(self):\n",
        "        return self.price * self.quantity\n",
        "\n",
        "p = Product(\"Laptop\", 50000, 2)\n",
        "print(\"Total Price:\", p.total_price())\n"
      ],
      "metadata": {
        "colab": {
          "base_uri": "https://localhost:8080/"
        },
        "id": "XHHQbLXLiPhZ",
        "outputId": "8dc3b518-09fc-4653-eaff-4181b118dabd"
      },
      "execution_count": 17,
      "outputs": [
        {
          "output_type": "stream",
          "name": "stdout",
          "text": [
            "Total Price: 100000\n"
          ]
        }
      ]
    },
    {
      "cell_type": "code",
      "source": [
        "# Q16.Create a class Animal with an abstract method sound().\n",
        "# Create two derived classes Cow and Sheep that implement the sound() method.\n",
        "\n",
        "from abc import ABC, abstractmethod\n",
        "\n",
        "class Animal(ABC):\n",
        "    @abstractmethod\n",
        "    def sound(self):\n",
        "        pass\n",
        "\n",
        "class Cow(Animal):\n",
        "    def sound(self):\n",
        "        return \"Moo!\"\n",
        "\n",
        "class Sheep(Animal):\n",
        "    def sound(self):\n",
        "        return \"Baa!\"\n",
        "\n",
        "animals = [Cow(), Sheep()]\n",
        "for a in animals:\n",
        "    print(a.sound())\n"
      ],
      "metadata": {
        "colab": {
          "base_uri": "https://localhost:8080/"
        },
        "id": "_b4RUZ-qiPZX",
        "outputId": "4dd98104-065d-4822-9e05-79e99d925cef"
      },
      "execution_count": 18,
      "outputs": [
        {
          "output_type": "stream",
          "name": "stdout",
          "text": [
            "Moo!\n",
            "Baa!\n"
          ]
        }
      ]
    },
    {
      "cell_type": "code",
      "source": [
        "# Q17.Create a class Book with attributes title, author, and year_published. Add a method get_book_info() that returns a formatted string with the book's details.\n",
        "\n",
        "class Book:\n",
        "    def __init__(self, title, author, year_published):\n",
        "        self.title = title\n",
        "        self.author = author\n",
        "        self.year_published = year_published\n",
        "\n",
        "    def get_book_info(self):\n",
        "        return f\"'{self.title}' by {self.author}, published in {self.year_published}\"\n",
        "\n",
        "b = Book(\"To Kill a Mockingbird\", \"Harper Lee\", 1960)\n",
        "print(b.get_book_info())\n"
      ],
      "metadata": {
        "colab": {
          "base_uri": "https://localhost:8080/"
        },
        "id": "xtNmh0k1iPQG",
        "outputId": "d0217815-8563-4a51-ab59-e328941c93c8"
      },
      "execution_count": 22,
      "outputs": [
        {
          "output_type": "stream",
          "name": "stdout",
          "text": [
            "'To Kill a Mockingbird' by Harper Lee, published in 1960\n"
          ]
        }
      ]
    },
    {
      "cell_type": "code",
      "source": [
        "# Q18.Create a class House with attributes address and price.\n",
        "# Create a derived class Mansion that adds an attribute number_of_rooms.\n",
        "class House:\n",
        "    def __init__(self, address, price):\n",
        "        self.address = address\n",
        "        self.price = price\n",
        "\n",
        "class Mansion(House):\n",
        "    def __init__(self, address, price, number_of_rooms):\n",
        "        super().__init__(address, price)\n",
        "        self.number_of_rooms = number_of_rooms\n",
        "\n",
        "m = Mansion(\"123 Luxury Street\", 20000000, 15)\n",
        "print(m.address, m.price, m.number_of_rooms)\n"
      ],
      "metadata": {
        "colab": {
          "base_uri": "https://localhost:8080/"
        },
        "id": "YthfH9R3iPDA",
        "outputId": "4aad2b1a-8bd8-4d85-c847-4dd4775fc3e6"
      },
      "execution_count": 20,
      "outputs": [
        {
          "output_type": "stream",
          "name": "stdout",
          "text": [
            "123 Luxury Street 20000000 15\n"
          ]
        }
      ]
    }
  ]
}